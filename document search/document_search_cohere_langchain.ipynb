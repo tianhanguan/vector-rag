{
 "cells": [
  {
   "cell_type": "markdown",
   "id": "3d86f6cd",
   "metadata": {},
   "source": [
    "# Cohere Document Search with Langchain"
   ]
  },
  {
   "cell_type": "markdown",
   "id": "4168e6b6",
   "metadata": {},
   "source": [
    "This example shows how to use the Python [langchain](https://python.langchain.com/docs/get_started/introduction) library to run a text-generation request against [Cohere's](https://cohere.com/) API, then augment that request using the text stored in a collection of local PDF documents.\n",
    "\n",
    "**Requirements:**\n",
    "- You will need an access key to Cohere's API key, which you can sign up for at (https://dashboard.cohere.com/welcome/login). A free trial account will suffice, but will be limited to a small number of requests.\n",
    "- After obtaining this key, store it in plain text in your home in directory in the `~/.cohere.key` file.\n",
    "- (Optional) Upload some pdf files into the `source_documents` subfolder under this notebook. We have already provided some sample pdfs, but feel free to replace these with your own."
   ]
  },
  {
   "cell_type": "markdown",
   "id": "22e4da1f",
   "metadata": {},
   "source": [
    "## Set up the RAG workflow environment"
   ]
  },
  {
   "cell_type": "code",
   "execution_count": 1,
   "id": "2f637730",
   "metadata": {},
   "outputs": [],
   "source": [
    "from getpass import getpass\n",
    "import os\n",
    "from pathlib import Path\n",
    "\n",
    "from langchain.chains import RetrievalQA\n",
    "from langchain.chat_models import ChatCohere\n",
    "from langchain.document_loaders import TextLoader\n",
    "from langchain.document_loaders.pdf import PyPDFDirectoryLoader\n",
    "from langchain.embeddings import HuggingFaceBgeEmbeddings\n",
    "from langchain.llms import Cohere\n",
    "from langchain.retrievers import ContextualCompressionRetriever\n",
    "from langchain.retrievers.document_compressors import CohereRerank\n",
    "from langchain.schema import HumanMessage, SystemMessage\n",
    "from langchain.text_splitter import RecursiveCharacterTextSplitter\n",
    "from langchain.vectorstores import FAISS"
   ]
  },
  {
   "cell_type": "markdown",
   "id": "12ecf9ac",
   "metadata": {},
   "source": [
    "Set up some helper functions:"
   ]
  },
  {
   "cell_type": "code",
   "execution_count": 2,
   "id": "dd4e2417",
   "metadata": {},
   "outputs": [],
   "source": [
    "def pretty_print_docs(docs):\n",
    "    print(\n",
    "        f\"\\n{'-' * 100}\\n\".join(\n",
    "            [f\"Document {i+1}:\\n\\n\" + d.page_content for i, d in enumerate(docs)]\n",
    "        )\n",
    "    )"
   ]
  },
  {
   "cell_type": "markdown",
   "id": "d9edd103",
   "metadata": {},
   "source": [
    "Make sure other necessary items are in place:"
   ]
  },
  {
   "cell_type": "code",
   "execution_count": 3,
   "id": "74b61e4f",
   "metadata": {},
   "outputs": [],
   "source": [
    "try:\n",
    "    os.environ[\"COHERE_API_KEY\"] = open(Path.home() / \".cohere.key\", \"r\").read().strip()\n",
    "except Exception:\n",
    "    print(f\"ERROR: You must have a Cohere API key available in your home directory at ~/.cohere.key\")\n",
    "\n",
    "# Look for the source_documents folder and make sure there is at least 1 pdf file here\n",
    "contains_pdf = False\n",
    "directory_path = \"./source_documents\"\n",
    "if not os.path.exists(directory_path):\n",
    "    print(f\"ERROR: The {directory_path} subfolder must exist under this notebook\")\n",
    "for filename in os.listdir(directory_path):\n",
    "    contains_pdf = True if \".pdf\" in filename else contains_pdf\n",
    "if not contains_pdf:\n",
    "    print(f\"ERROR: The {directory_path} subfolder must contain at least one .pdf file\")"
   ]
  },
  {
   "cell_type": "markdown",
   "id": "1e558afb",
   "metadata": {},
   "source": [
    "## Start with a basic generation request without RAG augmentation\n",
    "\n",
    "Let's start by asking the Cohere LLM a difficult, domain-specific question we don't expect it to have an answer to. A simple question like \"*What is the capital of France?*\" is not a good question here, because that's basic knowledge that we expect the LLM to know.\n",
    "\n",
    "Instead, we want to ask it a question that is very domain-specific that it won't know the answer to. A good example would an obscure detail buried deep within a company's annual report. For example:\n",
    "\n",
    "\"*How many Vector scholarships in AI were awarded in 2022?*\""
   ]
  },
  {
   "cell_type": "code",
   "execution_count": 6,
   "id": "6133a928",
   "metadata": {},
   "outputs": [],
   "source": [
    "query = \"How many Vector Institute scholarships in AI were awarded in 2022?\""
   ]
  },
  {
   "cell_type": "markdown",
   "id": "358a22c5",
   "metadata": {},
   "source": [
    "## Now send the query to Cohere"
   ]
  },
  {
   "cell_type": "code",
   "execution_count": 7,
   "id": "00061d61",
   "metadata": {},
   "outputs": [
    {
     "name": "stderr",
     "output_type": "stream",
     "text": [
      "/fs01/projects/aieng/public/rag_bootcamp/envs/rag_dataloaders/lib/python3.10/site-packages/langchain_core/_api/deprecation.py:117: LangChainDeprecationWarning: The function `__call__` was deprecated in LangChain 0.1.7 and will be removed in 0.2.0. Use invoke instead.\n",
      "  warn_deprecated(\n"
     ]
    },
    {
     "name": "stdout",
     "output_type": "stream",
     "text": [
      "Result: \n",
      "\n",
      " 15 graduate scholarships were awarded by The Vector Institute in 2022.  These scholarships are highly competitive, and are intended to support students in their research in the AI field.  The Vector Institute is known for its groundbreaking work in the field of artificial intelligence, and these scholarships have helped to further the institute's mission to drive excellence and leadership in AI research and innovation.  Besides financial support, these scholarships also provide recipients with access to invaluable mentorship, and networking opportunities, further enhancing their skills and knowledge in the field of AI. \n"
     ]
    }
   ],
   "source": [
    "llm = Cohere()\n",
    "result = llm(query)\n",
    "print(f\"Result: \\n\\n{result}\")"
   ]
  },
  {
   "cell_type": "markdown",
   "id": "e6e1c200",
   "metadata": {},
   "source": [
    "This is the wrong answer: Vector in fact awarded 109 AI scholarships in 2022. Fortunately, we do have that information available in Vector's 2021-22 Annual Report, which is available in the `source_documents` folder. Let's see how we can use RAG to augment our question with a document search and get the correct answer."
   ]
  },
  {
   "cell_type": "markdown",
   "id": "0255ea68",
   "metadata": {},
   "source": [
    "## Ingestion: Load and store the documents from source_documents"
   ]
  },
  {
   "cell_type": "markdown",
   "id": "ba9d0304",
   "metadata": {},
   "source": [
    "Start by reading in all the PDF files from `source_documents`, break them up into smaller digestible chunks, then encode them as vector embeddings."
   ]
  },
  {
   "cell_type": "code",
   "execution_count": 8,
   "id": "5710c72d",
   "metadata": {},
   "outputs": [
    {
     "name": "stdout",
     "output_type": "stream",
     "text": [
      "Number of source materials: 42\n",
      "Number of text chunks: 246\n",
      "Setting up the embeddings model...\n",
      "Done\n"
     ]
    }
   ],
   "source": [
    "# Load the pdfs\n",
    "loader = PyPDFDirectoryLoader(directory_path)\n",
    "docs = loader.load()\n",
    "print(f\"Number of source materials: {len(docs)}\")\n",
    "\n",
    "# Split the documents into smaller chunks\n",
    "text_splitter = RecursiveCharacterTextSplitter(chunk_size=500, chunk_overlap=100)\n",
    "chunks = text_splitter.split_documents(docs)\n",
    "print(f\"Number of text chunks: {len(chunks)}\")\n",
    "\n",
    "# Define the embeddings model\n",
    "model_name = \"BAAI/bge-small-en-v1.5\"\n",
    "encode_kwargs = {'normalize_embeddings': True} # set True to compute cosine similarity\n",
    "\n",
    "print(f\"Setting up the embeddings model...\")\n",
    "embeddings = HuggingFaceBgeEmbeddings(\n",
    "    model_name=model_name,\n",
    "    model_kwargs={'device': 'cuda'},\n",
    "    encode_kwargs=encode_kwargs\n",
    ")\n",
    "\n",
    "print(f\"Done\")"
   ]
  },
  {
   "cell_type": "markdown",
   "id": "b4a7545e",
   "metadata": {},
   "source": [
    "# Retrieval: Make the document chunks available via a retriever"
   ]
  },
  {
   "cell_type": "markdown",
   "id": "01bc16fe",
   "metadata": {},
   "source": [
    "The retriever will identify the document chunks that most closely match our original query. (This takes about 1-2 minutes)"
   ]
  },
  {
   "cell_type": "code",
   "execution_count": 9,
   "id": "1048c42a",
   "metadata": {},
   "outputs": [],
   "source": [
    "vectorstore = FAISS.from_documents(chunks, embeddings)\n",
    "retriever = vectorstore.as_retriever(search_kwargs={\"k\": 20})\n",
    "\n",
    "# Retrieve the most relevant context from the vector store based on the query(No Reranking Applied)\n",
    "docs = retriever.get_relevant_documents(query)"
   ]
  },
  {
   "cell_type": "markdown",
   "id": "8fe1690e",
   "metadata": {},
   "source": [
    "Let's see what results it found. Important to note, these results are in the order the retriever thought were the best matches."
   ]
  },
  {
   "cell_type": "code",
   "execution_count": 10,
   "id": "075ede5c",
   "metadata": {},
   "outputs": [
    {
     "name": "stdout",
     "output_type": "stream",
     "text": [
      "Document 1:\n",
      "\n",
      "26 \n",
      "  VECTOR SCHOLARSHIPS IN \n",
      "AI ATTRACT TOP TALENT TO ONTARIO UNIVERSITIES \n",
      "109 \n",
      "Vector Scholarships in AI awarded \n",
      "34 \n",
      "Programs \n",
      "13 \n",
      "Universities \n",
      "351 \n",
      "Scholarships awarded since the \n",
      "program launched in 2018 Supported with funding from the Province of Ontario, the Vector Institute Scholarship in Artifcial Intelligence (VSAI) helps Ontario universities to attract the best and brightest students to study in AI-related master’s programs. \n",
      "Scholarship recipients connect directly with leading\n",
      "----------------------------------------------------------------------------------------------------\n",
      "Document 2:\n",
      "\n",
      "5 \n",
      "Annual Report 2021–22 Vector Institute\n",
      "SPOTLIGHT ON FIVE YEARS OF AI \n",
      "LEADERSHIP FOR CANADIANS \n",
      "SINCE THE VECTOR INSTITUTE WAS FOUNDED IN 2017: \n",
      "2,080+ \n",
      "Students have graduated from \n",
      "Vector-recognized AI programs and \n",
      "study paths $6.2 M \n",
      "Scholarship funds committed to \n",
      "students in AI programs 3,700+ \n",
      "Postings for AI-focused jobs and \n",
      "internships ofered on Vector’s \n",
      "Digital Talent Hub $103 M \n",
      "In research funding committed to \n",
      "Vector-afliated researchers \n",
      "94 \n",
      "Research awards earned by\n",
      "----------------------------------------------------------------------------------------------------\n",
      "Document 3:\n",
      "\n",
      "35 \n",
      "Annual Report 2021–22 Vector Institute\n",
      " \n",
      " AI ENGINEERING   \n",
      "Vector is engineering new frontiers \n",
      "of AI application in industry, health and government Knowledge transfer \n",
      "Working directly with AI \n",
      "professionals to build their capacity and expertise \n",
      "Hands-on guidance \n",
      "Collaborating on real-\n",
      "world projects to accelerate successful AI deployment \n",
      "Amplifying research \n",
      "Enabling w\n",
      "orld-class \n",
      "researchers to unlock and share\n",
      "----------------------------------------------------------------------------------------------------\n",
      "Document 4:\n",
      "\n",
      "27 \n",
      "Annual Report 2021–22 Vector Institute\n",
      " SPOTLIGHT ON \n",
      "EXPANDING PATHWAYS \n",
      "The Vector Institute is committed to developing \n",
      "programming for Black and Indigenous students, postdoctoral fellows, and recent graduates to build research opportunities and expand career pathways in AI for historically underrepresented groups. \n",
      "In 2021–22, Vector launched a new Introduction\n",
      "----------------------------------------------------------------------------------------------------\n",
      "Document 5:\n",
      "\n",
      "24 \n",
      "Annual Report 2021–22 Vector Institute\n",
      " \n",
      " \n",
      " TALENT & \n",
      "WORKFORCE DEVELOPMENT \n",
      "Vector is helping to attract, develop, and \n",
      "connect the AI-skilled workforce that will transform Ontario’s economy 1,775  \n",
      "AI master’s students began their studies in \n",
      "recognized AI-related programs and study paths, up 27% from last year V\n",
      "ector is working with both universities and employers\n",
      "----------------------------------------------------------------------------------------------------\n",
      "Document 6:\n",
      "\n",
      "• Publishing more than 40 articles examining new ideas, emerging developments, and innovative applications of AI across industry, health, and government, on Vector’s own blog site, including the launch of a multi-part series on trustworthy AI CONTRIBUTING EXPERTISE\n",
      "----------------------------------------------------------------------------------------------------\n",
      "Document 7:\n",
      "\n",
      "course, she will join Vector as an applied intern in 2022, where she will work on leveraging AI in customer experience, retention, and loyalty programs for Vector’s industry community.\n",
      "----------------------------------------------------------------------------------------------------\n",
      "Document 8:\n",
      "\n",
      "“The scholarship funding from the Vector Institute \n",
      "has played an instrumental role in expanding graduate teaching, learning, and research opportunities in AI at Queen’s University.” \n",
      "Dr. Fahim Quadir, Vice-Provost and Dean, School of \n",
      "Graduate Studies & Professor of Global Developmental Studies, Queen’s University PRACTICAL, HANDS-ON \n",
      "PROGRAMMING TO FOSTER WORKFORCE SKILLS AND EXPERIENCE \n",
      "Throughout the year, students beneft from Vector-led\n",
      "----------------------------------------------------------------------------------------------------\n",
      "Document 9:\n",
      "\n",
      "16 V ector Institute Annual Report 2021–22 \n",
      "RESEARCH & \n",
      "EDUCATION \n",
      "Vector is advancing the frontiers of \n",
      "AI knowledge What was once only a few founding faculty has evolved \n",
      "over the last fve years into a fourishing community comprising over 700 researchers who are pushing the boundaries of AI, machine learning, and deep learning in critical areas to beneft Ontarians, Canadians, and people around the world. \n",
      "Vector continues to drive this growth through new and\n",
      "----------------------------------------------------------------------------------------------------\n",
      "Document 10:\n",
      "\n",
      "34 \n",
      "Annual Report 2021–22 Vector Institute\n",
      "SPOTLIGHT ON  \n",
      "ACCELERATING AI ADOPTION  \n",
      "IN HEALTH CARE  \n",
      "54 health clinician \n",
      "participants \n",
      "16 health care leaders \n",
      "37 Institutions\n",
      "----------------------------------------------------------------------------------------------------\n",
      "Document 11:\n",
      "\n",
      "10 \n",
      " Vector Institute Annual Report 2021–22\n",
      "INDUSTRY SPONSORS \n",
      "As of March 31, 2022 \n",
      "“Working with Vector enables our industry sponsors \n",
      "to give their employees unique access to expert researchers, a valuable sandbox environment that allows them to try new AI techniques with their peers, \n",
      "and ﬁrst-hand access to an AI talent pool that is in high-demand around the globe.” PLATINUM \n",
      "Accenture \n",
      "RBC BMO Financial Group Scotiabank \n",
      "Bell Deloitte Canada \n",
      "OMERS \n",
      "Thales \n",
      "Linamar \n",
      "BenchSci\n",
      "----------------------------------------------------------------------------------------------------\n",
      "Document 12:\n",
      "\n",
      "Arrows indicate year-over-year (YoY) directional change since 2020–21 The complete Ontario AI Snapshot for 2021–22 will be available soon on the Vector Institute website at vectorinstitute.ai. \n",
      "YoY \n",
      "22,458 \n",
      "AI jobs created YoY \n",
      "59,673 \n",
      "AI jobs retained YoY \n",
      "1,775 \n",
      "New AI Master’s & study path enrolments YoY \n",
      "1,007 \n",
      "New AI Master’s graduates from Vector-recognized programs \n",
      "YoY \n",
      "66 \n",
      "New AI-related patents fled across Canada YoY \n",
      "$2.86 BILLION \n",
      "In AI-related VC investment * YoY \n",
      "273\n",
      "----------------------------------------------------------------------------------------------------\n",
      "Document 13:\n",
      "\n",
      "“A large part of why I decided to return to Toronto from California was due to how strong Vector is as an institute in AI and the fact that there are so many great professors here that I can learn from. Being in this ecosystem has been a really great help for both my professional and academic journey.” \n",
      "Alex Cui, Vector Scholarship in AI Recipient 2021–22 \n",
      "“The scholarship funding from the Vector Institute\n",
      "----------------------------------------------------------------------------------------------------\n",
      "Document 14:\n",
      "\n",
      "37 \n",
      "Annual Report 2021–22 Vector Institute\n",
      "SPOTLIGHT ON \n",
      "EQUIPPING AI PROFESSIONALS TO WORK SAFELY WITH SENSITIVE DATA \n",
      "55 participants \n",
      "20 organizations across \n",
      "health, industry sectors and government \n",
      "1,440+ hours of engagement Technical professionals from both  the private and public s e \n",
      "ctors gained new, immediately applicable \n",
      "skills in Privacy Enhancing Technologies (PETs) through a new Vector bootcamp in 2021–22. \n",
      "Guided by experts from Vector’s AI Engineering,\n",
      "----------------------------------------------------------------------------------------------------\n",
      "Document 15:\n",
      "\n",
      "38 \n",
      "Annual Report 2021–22 Vector Institute\n",
      "THOUGHT \n",
      "LEADERSHIP \n",
      "Vector is building its infuential voice on AI’s \n",
      "societal and economic impacts The Vector Institute continues to build its\n",
      "----------------------------------------------------------------------------------------------------\n",
      "Document 16:\n",
      "\n",
      "15 \n",
      "Annual Report 2021–22 Vector Institute\n",
      " \n",
      "  \n",
      " \n",
      " SPOTLIGHT ON \n",
      "AI INNOVATORS \n",
      "WORKING DIRECTLY WITH BRONZE SPONSORS AND \n",
      "THROUGH PROGRAMS THAT INCLUDE FASTLANE, BOOTCAMPS, PROGRAMS FOR SMES, AND COMMERCIALIZATION SESSIONS, VECTOR IS ENABLING AI INNOVATORS TO BOTH START AND SCALE. \n",
      "One of these exciting AI innovators is Vector Postgraduate Afliate Estelle\n",
      "----------------------------------------------------------------------------------------------------\n",
      "Document 17:\n",
      "\n",
      "studies in a Vector-recognized AI-related master’s program or other study paths in AI — both a record number and a 27 per cent increase over the previous year. Last year also saw more than 1,000 new graduates from AI master’s programs in Ontario; a milestone achieved ahead of the province’s 2023 target. These skilled AI graduates will hold an envied role in the workforce of the future. Further, our research community has now grown to more than 700, whose infuence continues to grow; they\n",
      "----------------------------------------------------------------------------------------------------\n",
      "Document 18:\n",
      "\n",
      "Vector’s Research Internship Program plays a \n",
      "crucial role in growing a dynamic AI ecosystem for industry, health, innovation, and advanced research. Through a new Open Call portal, Vector is better able to reach top AI talent from across Canada and around the world. Meanwhile, prospective research interns beneft from easier access to a fast-growing AI ecosystem and opportunities to work alongside Vector’s world-class faculty on new machine learning and deep learning discoveries.\n",
      "----------------------------------------------------------------------------------------------------\n",
      "Document 19:\n",
      "\n",
      "11 \n",
      "Annual Report 2021–22 Vector Institute\n",
      " \n",
      " \n",
      " SPOTLIGHT ON \n",
      "FASTLANE PROGRAM \n",
      "AMBITIOUS FAST-GROWING COMPANIES \n",
      "GAIN VALUABLE EXPERTISE BUILDING AND SCALING APPLIED AI SOLUTIONS FOR COMPLEX BUSINESS PROBLEMS \n",
      "60+ \n",
      "FAST-GROWING SMES 10 \n",
      "EVENTS AND WORKSHOPS \n",
      "DEDICATED TO PROFESSIONAL DEVELOPMENT, TALENT ADVISORY, AND AI COMMERCIALIZATION INSIGHTS 1,300 \n",
      "HOURS OF ENGAGEMENT WITH STARTUPS AND SCALEUPS ACROSS SECTORS Launched in December 2021, Vector’s new FastLane\n",
      "----------------------------------------------------------------------------------------------------\n",
      "Document 20:\n",
      "\n",
      "In 2021–22, Vector launched a new Introduction \n",
      "to Machine Learning course. Open to Black and Indigenous post-secondary students from across Canada, the course introduces participants to common machine learning algorithms as well as a broad overview of model-building and optimization techniques. More than 100 students applied to the six-week course, with 19 post-secondary institutions represented in the initial cohort. \n",
      "Meanwhile, new internships provide hands-on\n"
     ]
    }
   ],
   "source": [
    "pretty_print_docs(docs)"
   ]
  },
  {
   "cell_type": "markdown",
   "id": "3008507b",
   "metadata": {},
   "source": [
    "These results seem to somewhat match our original query, but we still can't seem to find the information we're looking for. Let's try sending our LLM query again including these results, and see what it comes up with."
   ]
  },
  {
   "cell_type": "code",
   "execution_count": 11,
   "id": "23499f4a",
   "metadata": {},
   "outputs": [
    {
     "name": "stdout",
     "output_type": "stream",
     "text": [
      "Sending the RAG generation with query: How many Vector Institute scholarships in AI were awarded in 2022?\n"
     ]
    },
    {
     "name": "stderr",
     "output_type": "stream",
     "text": [
      "/fs01/projects/aieng/public/rag_bootcamp/envs/rag_dataloaders/lib/python3.10/site-packages/langchain_core/_api/deprecation.py:117: LangChainDeprecationWarning: The function `run` was deprecated in LangChain 0.1.0 and will be removed in 0.2.0. Use invoke instead.\n",
      "  warn_deprecated(\n"
     ]
    },
    {
     "name": "stdout",
     "output_type": "stream",
     "text": [
      "Result:\n",
      "\n",
      " I'm sorry, I am unable to provide an answer to the question as there is no clear context provided regarding the specific year or the duration for which the scholarships are awarded and as a large language model, I do not have access to live updates. \n",
      "\n",
      "If you provide more contextual information I can revise my answer accordingly. \n"
     ]
    }
   ],
   "source": [
    "print(f\"Sending the RAG generation with query: {query}\")\n",
    "qa = RetrievalQA.from_chain_type(llm=llm,\n",
    "        chain_type=\"stuff\",\n",
    "        retriever=retriever)\n",
    "print(f\"Result:\\n\\n{qa.run(query=query)}\") "
   ]
  },
  {
   "cell_type": "markdown",
   "id": "6ea847fe",
   "metadata": {},
   "source": [
    "# Reranking: Improve the ordering of the document chunks"
   ]
  },
  {
   "cell_type": "code",
   "execution_count": 12,
   "id": "24dd59e8",
   "metadata": {},
   "outputs": [],
   "source": [
    "compressor = CohereRerank()\n",
    "compression_retriever = ContextualCompressionRetriever(\n",
    "    base_compressor=compressor, base_retriever=retriever\n",
    ")\n",
    "compressed_docs = compression_retriever.get_relevant_documents(query)"
   ]
  },
  {
   "cell_type": "markdown",
   "id": "dc20a66b",
   "metadata": {},
   "source": [
    "Now let's see what the reranked results look like:"
   ]
  },
  {
   "cell_type": "code",
   "execution_count": 13,
   "id": "961dda63",
   "metadata": {},
   "outputs": [
    {
     "name": "stdout",
     "output_type": "stream",
     "text": [
      "Document 1:\n",
      "\n",
      "5 \n",
      "Annual Report 2021–22 Vector Institute\n",
      "SPOTLIGHT ON FIVE YEARS OF AI \n",
      "LEADERSHIP FOR CANADIANS \n",
      "SINCE THE VECTOR INSTITUTE WAS FOUNDED IN 2017: \n",
      "2,080+ \n",
      "Students have graduated from \n",
      "Vector-recognized AI programs and \n",
      "study paths $6.2 M \n",
      "Scholarship funds committed to \n",
      "students in AI programs 3,700+ \n",
      "Postings for AI-focused jobs and \n",
      "internships ofered on Vector’s \n",
      "Digital Talent Hub $103 M \n",
      "In research funding committed to \n",
      "Vector-afliated researchers \n",
      "94 \n",
      "Research awards earned by\n",
      "----------------------------------------------------------------------------------------------------\n",
      "Document 2:\n",
      "\n",
      "26 \n",
      "  VECTOR SCHOLARSHIPS IN \n",
      "AI ATTRACT TOP TALENT TO ONTARIO UNIVERSITIES \n",
      "109 \n",
      "Vector Scholarships in AI awarded \n",
      "34 \n",
      "Programs \n",
      "13 \n",
      "Universities \n",
      "351 \n",
      "Scholarships awarded since the \n",
      "program launched in 2018 Supported with funding from the Province of Ontario, the Vector Institute Scholarship in Artifcial Intelligence (VSAI) helps Ontario universities to attract the best and brightest students to study in AI-related master’s programs. \n",
      "Scholarship recipients connect directly with leading\n",
      "----------------------------------------------------------------------------------------------------\n",
      "Document 3:\n",
      "\n",
      "27 \n",
      "Annual Report 2021–22 Vector Institute\n",
      " SPOTLIGHT ON \n",
      "EXPANDING PATHWAYS \n",
      "The Vector Institute is committed to developing \n",
      "programming for Black and Indigenous students, postdoctoral fellows, and recent graduates to build research opportunities and expand career pathways in AI for historically underrepresented groups. \n",
      "In 2021–22, Vector launched a new Introduction\n"
     ]
    }
   ],
   "source": [
    "pretty_print_docs(compressed_docs)"
   ]
  },
  {
   "cell_type": "markdown",
   "id": "fef217bc",
   "metadata": {},
   "source": [
    "Lastly, let's run our LLM query a final time with the reranked results:"
   ]
  },
  {
   "cell_type": "code",
   "execution_count": 14,
   "id": "63696ef9",
   "metadata": {},
   "outputs": [
    {
     "name": "stdout",
     "output_type": "stream",
     "text": [
      "Result:\n",
      "\n",
      "  The article indicates that there was a total of 109 Vector Institute scholarships awarded in AI in the 2021-2022 fiscal year. \n",
      "\n",
      "The scholarship program was launched in 2018, and has since awarded 351 scholarships. \n",
      "\n",
      "It is important to note that this information does not specify the time period in which the awards were given, and thus I cannot confirm whether these scholarships were awarded solely in the year 2022 or if they were distributed over a longer period of time. \n",
      "\n",
      "If you would like further clarification regarding this matter, I am happy to provide any additional information that may be gleaned from the context provided. \n"
     ]
    }
   ],
   "source": [
    "qa = RetrievalQA.from_chain_type(llm=llm,\n",
    "        chain_type=\"stuff\",\n",
    "        retriever=compression_retriever)\n",
    "\n",
    "print(f\"Result:\\n\\n {qa.run(query=query)}\")"
   ]
  }
 ],
 "metadata": {
  "kernelspec": {
   "display_name": "rag_dataloaders",
   "language": "python",
   "name": "rag_dataloaders"
  },
  "language_info": {
   "codemirror_mode": {
    "name": "ipython",
    "version": 3
   },
   "file_extension": ".py",
   "mimetype": "text/x-python",
   "name": "python",
   "nbconvert_exporter": "python",
   "pygments_lexer": "ipython3",
   "version": "3.10.12"
  }
 },
 "nbformat": 4,
 "nbformat_minor": 5
}
