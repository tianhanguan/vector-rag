{
 "cells": [
  {
   "cell_type": "markdown",
   "id": "3d86f6cd",
   "metadata": {},
   "source": [
    "# OpenAI Document Search with Langchain"
   ]
  },
  {
   "cell_type": "markdown",
   "id": "4168e6b6",
   "metadata": {},
   "source": [
    "This example shows how to use the Python [langchain](https://python.langchain.com/docs/get_started/introduction) library to run a text-generation request against [OpenAI's](https://platform.openai.com/) API, then augment that request using the text stored in a collection of local PDF documents.\n",
    "\n",
    "**Requirements:**\n",
    "- You will need an access key to OpenAI's API key, which you can sign up for at (https://dashboard.cohere.com/welcome/login). A free trial account will suffice, but will be limited to a small number of requests.\n",
    "- After obtaining this key, store it in plain text in your home in directory in the `~/.openai.key` file.\n",
    "- (Optional) Upload some pdf files into the `source_documents` subfolder under this notebook. We have already provided some sample pdfs, but feel free to replace these with your own."
   ]
  },
  {
   "cell_type": "markdown",
   "id": "22e4da1f",
   "metadata": {},
   "source": [
    "## Set up the RAG workflow environment"
   ]
  },
  {
   "cell_type": "code",
   "execution_count": 1,
   "id": "2f637730",
   "metadata": {},
   "outputs": [],
   "source": [
    "from getpass import getpass\n",
    "import os\n",
    "from pathlib import Path\n",
    "\n",
    "from langchain.chains import RetrievalQA\n",
    "from langchain.document_loaders.pdf import PyPDFDirectoryLoader\n",
    "from langchain.retrievers import ContextualCompressionRetriever\n",
    "from langchain.retrievers.document_compressors import EmbeddingsFilter\n",
    "from langchain.schema import HumanMessage\n",
    "from langchain.text_splitter import RecursiveCharacterTextSplitter\n",
    "from langchain_openai import ChatOpenAI, OpenAIEmbeddings\n",
    "from langchain_community.vectorstores import FAISS"
   ]
  },
  {
   "cell_type": "markdown",
   "id": "12ecf9ac",
   "metadata": {},
   "source": [
    "Set up some helper functions:"
   ]
  },
  {
   "cell_type": "code",
   "execution_count": 2,
   "id": "dd4e2417",
   "metadata": {},
   "outputs": [],
   "source": [
    "def pretty_print_docs(docs):\n",
    "    print(\n",
    "        f\"\\n{'-' * 100}\\n\".join(\n",
    "            [f\"Document {i+1}:\\n\\n\" + d.page_content for i, d in enumerate(docs)]\n",
    "        )\n",
    "    )"
   ]
  },
  {
   "cell_type": "markdown",
   "id": "d9edd103",
   "metadata": {},
   "source": [
    "Make sure other necessary items are in place:"
   ]
  },
  {
   "cell_type": "code",
   "execution_count": 3,
   "id": "74b61e4f",
   "metadata": {},
   "outputs": [],
   "source": [
    "try:\n",
    "    os.environ[\"OPENAI_API_KEY\"] = open(Path.home() / \".openai.key\", \"r\").read().strip()\n",
    "except Exception as err:\n",
    "    print(f\"Could not read your OpenAI key. Please make sure this is available in plain text under your home directory in ~/.openai.key: {err}\")\n",
    "\n",
    "# Look for the source_documents folder and make sure there is at least 1 pdf file here\n",
    "contains_pdf = False\n",
    "directory_path = \"./source_documents\"\n",
    "if not os.path.exists(directory_path):\n",
    "    print(f\"ERROR: The {directory_path} subfolder must exist under this notebook\")\n",
    "for filename in os.listdir(directory_path):\n",
    "    contains_pdf = True if \".pdf\" in filename else contains_pdf\n",
    "if not contains_pdf:\n",
    "    print(f\"ERROR: The {directory_path} subfolder must contain at least one .pdf file\")"
   ]
  },
  {
   "cell_type": "markdown",
   "id": "1e558afb",
   "metadata": {},
   "source": [
    "## Start with a basic generation request without RAG augmentation\n",
    "\n",
    "Let's start by asking OpenAI a difficult, domain-specific question we don't expect it to have an answer to. A simple question like \"*What is the capital of France?*\" is not a good question here, because that's basic knowledge that we expect the LLM to know.\n",
    "\n",
    "Instead, we want to ask it a question that is very domain-specific that it won't know the answer to. A good example would an obscure detail buried deep within a company's annual report. For example:\n",
    "\n",
    "\"*How many Vector scholarships in AI were awarded in 2022?*\""
   ]
  },
  {
   "cell_type": "code",
   "execution_count": 4,
   "id": "6133a928",
   "metadata": {},
   "outputs": [],
   "source": [
    "query = \"How many Vector scholarships in AI were awarded in 2022?\""
   ]
  },
  {
   "cell_type": "markdown",
   "id": "358a22c5",
   "metadata": {},
   "source": [
    "## Now send the query to OpenAI"
   ]
  },
  {
   "cell_type": "code",
   "execution_count": 5,
   "id": "00061d61",
   "metadata": {},
   "outputs": [
    {
     "name": "stderr",
     "output_type": "stream",
     "text": [
      "/fs01/projects/aieng/public/rag_bootcamp/envs/rag_dataloaders/lib/python3.10/site-packages/langchain_core/_api/deprecation.py:117: LangChainDeprecationWarning: The function `__call__` was deprecated in LangChain 0.1.7 and will be removed in 0.2.0. Use invoke instead.\n",
      "  warn_deprecated(\n"
     ]
    },
    {
     "name": "stdout",
     "output_type": "stream",
     "text": [
      "Result: \n",
      "\n",
      "There is no information available about the number of Vector scholarships in AI that were awarded in 2022.\n"
     ]
    }
   ],
   "source": [
    "llm = ChatOpenAI()\n",
    "message = [\n",
    "    HumanMessage(\n",
    "        content=query\n",
    "    )\n",
    "]\n",
    "result = llm(message)\n",
    "print(f\"Result: \\n\\n{result.content}\")"
   ]
  },
  {
   "cell_type": "markdown",
   "id": "e6e1c200",
   "metadata": {},
   "source": [
    "Without additional information, Cohere is unable to answer the question correctly. **Vector in fact awarded 109 AI scholarships in 2022.** Fortunately, we do have that information available in Vector's 2021-22 Annual Report, which is available in the `source_documents` folder. Let's see how we can use RAG to augment our question with a document search and get the correct answer."
   ]
  },
  {
   "cell_type": "markdown",
   "id": "0255ea68",
   "metadata": {},
   "source": [
    "## Ingestion: Load and store the documents from source_documents"
   ]
  },
  {
   "cell_type": "markdown",
   "id": "ba9d0304",
   "metadata": {},
   "source": [
    "Start by reading in all the PDF files from `source_documents`, break them up into smaller digestible chunks, then encode them as vector embeddings."
   ]
  },
  {
   "cell_type": "code",
   "execution_count": 13,
   "id": "5710c72d",
   "metadata": {},
   "outputs": [
    {
     "name": "stdout",
     "output_type": "stream",
     "text": [
      "Number of source documents: 42\n",
      "Number of text chunks: 569\n",
      "Setting up the embeddings model...\n",
      "Done\n"
     ]
    }
   ],
   "source": [
    "# Load the pdfs\n",
    "loader = PyPDFDirectoryLoader(directory_path)\n",
    "docs = loader.load()\n",
    "print(f\"Number of source documents: {len(docs)}\")\n",
    "\n",
    "# Split the documents into smaller chunks\n",
    "text_splitter = RecursiveCharacterTextSplitter(chunk_size=250, chunk_overlap=100)\n",
    "chunks = text_splitter.split_documents(docs)\n",
    "print(f\"Number of text chunks: {len(chunks)}\")\n",
    "\n",
    "# Define the embeddings model\n",
    "model_name = \"BAAI/bge-small-en-v1.5\"\n",
    "encode_kwargs = {'normalize_embeddings': True} # set True to compute cosine similarity\n",
    "\n",
    "print(f\"Setting up the embeddings model...\")\n",
    "embeddings = OpenAIEmbeddings(model=\"text-embedding-ada-002\")\n",
    "\n",
    "print(f\"Done\")"
   ]
  },
  {
   "cell_type": "markdown",
   "id": "b4a7545e",
   "metadata": {},
   "source": [
    "# Retrieval: Make the document chunks available via a retriever"
   ]
  },
  {
   "cell_type": "markdown",
   "id": "01bc16fe",
   "metadata": {},
   "source": [
    "The retriever will identify the document chunks that most closely match our original query. (This takes about 1-2 minutes)"
   ]
  },
  {
   "cell_type": "code",
   "execution_count": 14,
   "id": "1048c42a",
   "metadata": {},
   "outputs": [],
   "source": [
    "vectorstore = FAISS.from_documents(chunks, embeddings)\n",
    "retriever = vectorstore.as_retriever(search_kwargs={\"k\": 20})\n",
    "\n",
    "# Retrieve the most relevant context from the vector store based on the query(No Reranking Applied)\n",
    "docs = retriever.get_relevant_documents(query)"
   ]
  },
  {
   "cell_type": "markdown",
   "id": "8fe1690e",
   "metadata": {},
   "source": [
    "Let's see what results it found. Important to note, these results are in the order the retriever thought were the best matches."
   ]
  },
  {
   "cell_type": "code",
   "execution_count": 15,
   "id": "075ede5c",
   "metadata": {},
   "outputs": [
    {
     "name": "stdout",
     "output_type": "stream",
     "text": [
      "Document 1:\n",
      "\n",
      "2,080+ \n",
      "Students have graduated from \n",
      "Vector-recognized AI programs and \n",
      "study paths $6.2 M \n",
      "Scholarship funds committed to \n",
      "students in AI programs 3,700+ \n",
      "Postings for AI-focused jobs and \n",
      "internships ofered on Vector’s \n",
      "Digital Talent Hub $103 M\n",
      "----------------------------------------------------------------------------------------------------\n",
      "Document 2:\n",
      "\n",
      "26 \n",
      "  VECTOR SCHOLARSHIPS IN \n",
      "AI ATTRACT TOP TALENT TO ONTARIO UNIVERSITIES \n",
      "109 \n",
      "Vector Scholarships in AI awarded \n",
      "34 \n",
      "Programs \n",
      "13 \n",
      "Universities \n",
      "351 \n",
      "Scholarships awarded since the\n",
      "----------------------------------------------------------------------------------------------------\n",
      "Document 3:\n",
      "\n",
      "Alex Cui, Vector Scholarship in AI Recipient 2021–22 \n",
      "“The scholarship funding from the Vector Institute \n",
      "has played an instrumental role in expanding graduate teaching, learning, and research opportunities in AI at Queen’s University.”\n",
      "----------------------------------------------------------------------------------------------------\n",
      "Document 4:\n",
      "\n",
      "23 \n",
      "RESEARCH AWARDS AND \n",
      "ACHIEVEMENTS \n",
      "Each year, members of Vector’s research community \n",
      "are recognized for outstanding contributions to AI and machine learning felds. Highlights of 2021–22 include: \n",
      "GLOBAL REACH OF VECTOR\n",
      "----------------------------------------------------------------------------------------------------\n",
      "Document 5:\n",
      "\n",
      "35 \n",
      "Annual Report 2021–22 Vector Institute\n",
      " \n",
      " AI ENGINEERING   \n",
      "Vector is engineering new frontiers \n",
      "of AI application in industry, health and government Knowledge transfer \n",
      "Working directly with AI\n",
      "----------------------------------------------------------------------------------------------------\n",
      "Document 6:\n",
      "\n",
      "5 \n",
      "Annual Report 2021–22 Vector Institute\n",
      "SPOTLIGHT ON FIVE YEARS OF AI \n",
      "LEADERSHIP FOR CANADIANS \n",
      "SINCE THE VECTOR INSTITUTE WAS FOUNDED IN 2017: \n",
      "2,080+ \n",
      "Students have graduated from \n",
      "Vector-recognized AI programs and \n",
      "study paths $6.2 M\n",
      "----------------------------------------------------------------------------------------------------\n",
      "Document 7:\n",
      "\n",
      "program launched in 2018 Supported with funding from the Province of Ontario, the Vector Institute Scholarship in Artifcial Intelligence (VSAI) helps Ontario universities to attract the best and brightest students to study in AI-related master’s\n",
      "----------------------------------------------------------------------------------------------------\n",
      "Document 8:\n",
      "\n",
      "Postings for AI-focused jobs and \n",
      "internships ofered on Vector’s \n",
      "Digital Talent Hub $103 M \n",
      "In research funding committed to \n",
      "Vector-afliated researchers \n",
      "94 \n",
      "Research awards earned by  \n",
      "Vector Faculty Members 470+\n",
      "----------------------------------------------------------------------------------------------------\n",
      "Document 9:\n",
      "\n",
      "24 \n",
      "Annual Report 2021–22 Vector Institute\n",
      " \n",
      " \n",
      " TALENT & \n",
      "WORKFORCE DEVELOPMENT \n",
      "Vector is helping to attract, develop, and \n",
      "connect the AI-skilled workforce that will transform Ontario’s economy 1,775  \n",
      "AI master’s students began their studies in\n",
      "----------------------------------------------------------------------------------------------------\n",
      "Document 10:\n",
      "\n",
      "37 \n",
      "Annual Report 2021–22 Vector Institute\n",
      "SPOTLIGHT ON \n",
      "EQUIPPING AI PROFESSIONALS TO WORK SAFELY WITH SENSITIVE DATA \n",
      "55 participants \n",
      "20 organizations across \n",
      "health, industry sectors and government\n",
      "----------------------------------------------------------------------------------------------------\n",
      "Document 11:\n",
      "\n",
      "400 G\n",
      "raduate students \n",
      "50+ Employers 12 MONTHS POST-GRADUATION \n",
      "93% of graduates from Vector-recognized AI programs are employed or pursuing further education in the feld \n",
      "92% of those employed have \n",
      "remained in Ontario.\n",
      "----------------------------------------------------------------------------------------------------\n",
      "Document 12:\n",
      "\n",
      "714 Members of the Vector research \n",
      "community, comprising: \n",
      "35 Faculty Members including  \n",
      "32 Canada CIFAR AI Chairs \n",
      "103 F\n",
      "aculty Afliates \n",
      "51 Postdoctoral Fellows \n",
      "410 G\n",
      "raduate Researchers \n",
      "115 Undergraduates \n",
      "NEW \n",
      "OPEN CALL PORTAL\n",
      "----------------------------------------------------------------------------------------------------\n",
      "Document 13:\n",
      "\n",
      "The Vector Institute is committed to developing \n",
      "programming for Black and Indigenous students, postdoctoral fellows, and recent graduates to build research opportunities and expand career pathways in AI for historically underrepresented groups.\n",
      "----------------------------------------------------------------------------------------------------\n",
      "Document 14:\n",
      "\n",
      "16 V ector Institute Annual Report 2021–22 \n",
      "RESEARCH & \n",
      "EDUCATION \n",
      "Vector is advancing the frontiers of \n",
      "AI knowledge What was once only a few founding faculty has evolved\n",
      "----------------------------------------------------------------------------------------------------\n",
      "Document 15:\n",
      "\n",
      "AI master’s students began their studies in \n",
      "recognized AI-related programs and study paths, up 27% from last year V\n",
      "ector is working with both universities and employers\n",
      "----------------------------------------------------------------------------------------------------\n",
      "Document 16:\n",
      "\n",
      "34 \n",
      "Annual Report 2021–22 Vector Institute\n",
      "SPOTLIGHT ON  \n",
      "ACCELERATING AI ADOPTION  \n",
      "IN HEALTH CARE  \n",
      "54 health clinician \n",
      "participants \n",
      "16 health care leaders \n",
      "37 Institutions\n",
      "----------------------------------------------------------------------------------------------------\n",
      "Document 17:\n",
      "\n",
      "43 Applied interns in Vector’s expanded internship program (up from 5 last year), working on Vector projects across its industry innovation, health, research, and AI engineering teams\n",
      "----------------------------------------------------------------------------------------------------\n",
      "Document 18:\n",
      "\n",
      "6,300+ \n",
      "Participants upskilled or trained in Vector’s programming for industry sponsors and the public in 2021–22 MOTHERS & MACHINE LEARNING \n",
      "• Six-week, academically rigorous course; 39 participants completed the inaugural program\n",
      "----------------------------------------------------------------------------------------------------\n",
      "Document 19:\n",
      "\n",
      "Vector awards recognition to AI master’s programs and AI-focused study paths at Ontario universities that are graduating students with the skills and competencies highly sought by industry. Vector recognition delivers benefts to:\n",
      "----------------------------------------------------------------------------------------------------\n",
      "Document 20:\n",
      "\n",
      "10 \n",
      " Vector Institute Annual Report 2021–22\n",
      "INDUSTRY SPONSORS \n",
      "As of March 31, 2022 \n",
      "“Working with Vector enables our industry sponsors\n"
     ]
    }
   ],
   "source": [
    "pretty_print_docs(docs)"
   ]
  },
  {
   "cell_type": "markdown",
   "id": "3008507b",
   "metadata": {},
   "source": [
    "These results seem to somewhat match our original query, but we still can't seem to find the information we're looking for. Let's try sending our LLM query again including these results, and see what it comes up with."
   ]
  },
  {
   "cell_type": "code",
   "execution_count": 16,
   "id": "23499f4a",
   "metadata": {},
   "outputs": [
    {
     "name": "stdout",
     "output_type": "stream",
     "text": [
      "Sending the RAG generation with query: How many Vector scholarships in AI were awarded in 2022?\n",
      "Result:\n",
      "\n",
      "In 2022, 109 Vector Scholarships in AI were awarded.\n"
     ]
    }
   ],
   "source": [
    "print(f\"Sending the RAG generation with query: {query}\")\n",
    "qa = RetrievalQA.from_chain_type(llm=llm,\n",
    "        chain_type=\"stuff\",\n",
    "        retriever=retriever)\n",
    "print(f\"Result:\\n\\n{qa.run(query=query)}\") "
   ]
  },
  {
   "cell_type": "markdown",
   "id": "6ea847fe",
   "metadata": {},
   "source": [
    "# Reranking: Improve the ordering of the document chunks"
   ]
  },
  {
   "cell_type": "code",
   "execution_count": 17,
   "id": "24dd59e8",
   "metadata": {},
   "outputs": [],
   "source": [
    "embeddings = OpenAIEmbeddings()\n",
    "embeddings_filter = EmbeddingsFilter(embeddings=embeddings, similarity_threshold=0.76)\n",
    "compression_retriever = ContextualCompressionRetriever(\n",
    "    base_compressor=embeddings_filter, base_retriever=retriever\n",
    ")\n",
    "compressed_docs = compression_retriever.get_relevant_documents(query)"
   ]
  },
  {
   "cell_type": "markdown",
   "id": "dc20a66b",
   "metadata": {},
   "source": [
    "Now let's see what the reranked results look like:"
   ]
  },
  {
   "cell_type": "code",
   "execution_count": 18,
   "id": "961dda63",
   "metadata": {},
   "outputs": [
    {
     "name": "stdout",
     "output_type": "stream",
     "text": [
      "Document 1:\n",
      "\n",
      "2,080+ \n",
      "Students have graduated from \n",
      "Vector-recognized AI programs and \n",
      "study paths $6.2 M \n",
      "Scholarship funds committed to \n",
      "students in AI programs 3,700+ \n",
      "Postings for AI-focused jobs and \n",
      "internships ofered on Vector’s \n",
      "Digital Talent Hub $103 M\n",
      "----------------------------------------------------------------------------------------------------\n",
      "Document 2:\n",
      "\n",
      "26 \n",
      "  VECTOR SCHOLARSHIPS IN \n",
      "AI ATTRACT TOP TALENT TO ONTARIO UNIVERSITIES \n",
      "109 \n",
      "Vector Scholarships in AI awarded \n",
      "34 \n",
      "Programs \n",
      "13 \n",
      "Universities \n",
      "351 \n",
      "Scholarships awarded since the\n",
      "----------------------------------------------------------------------------------------------------\n",
      "Document 3:\n",
      "\n",
      "Alex Cui, Vector Scholarship in AI Recipient 2021–22 \n",
      "“The scholarship funding from the Vector Institute \n",
      "has played an instrumental role in expanding graduate teaching, learning, and research opportunities in AI at Queen’s University.”\n",
      "----------------------------------------------------------------------------------------------------\n",
      "Document 4:\n",
      "\n",
      "23 \n",
      "RESEARCH AWARDS AND \n",
      "ACHIEVEMENTS \n",
      "Each year, members of Vector’s research community \n",
      "are recognized for outstanding contributions to AI and machine learning felds. Highlights of 2021–22 include: \n",
      "GLOBAL REACH OF VECTOR\n",
      "----------------------------------------------------------------------------------------------------\n",
      "Document 5:\n",
      "\n",
      "35 \n",
      "Annual Report 2021–22 Vector Institute\n",
      " \n",
      " AI ENGINEERING   \n",
      "Vector is engineering new frontiers \n",
      "of AI application in industry, health and government Knowledge transfer \n",
      "Working directly with AI\n",
      "----------------------------------------------------------------------------------------------------\n",
      "Document 6:\n",
      "\n",
      "5 \n",
      "Annual Report 2021–22 Vector Institute\n",
      "SPOTLIGHT ON FIVE YEARS OF AI \n",
      "LEADERSHIP FOR CANADIANS \n",
      "SINCE THE VECTOR INSTITUTE WAS FOUNDED IN 2017: \n",
      "2,080+ \n",
      "Students have graduated from \n",
      "Vector-recognized AI programs and \n",
      "study paths $6.2 M\n",
      "----------------------------------------------------------------------------------------------------\n",
      "Document 7:\n",
      "\n",
      "program launched in 2018 Supported with funding from the Province of Ontario, the Vector Institute Scholarship in Artifcial Intelligence (VSAI) helps Ontario universities to attract the best and brightest students to study in AI-related master’s\n",
      "----------------------------------------------------------------------------------------------------\n",
      "Document 8:\n",
      "\n",
      "Postings for AI-focused jobs and \n",
      "internships ofered on Vector’s \n",
      "Digital Talent Hub $103 M \n",
      "In research funding committed to \n",
      "Vector-afliated researchers \n",
      "94 \n",
      "Research awards earned by  \n",
      "Vector Faculty Members 470+\n",
      "----------------------------------------------------------------------------------------------------\n",
      "Document 9:\n",
      "\n",
      "37 \n",
      "Annual Report 2021–22 Vector Institute\n",
      "SPOTLIGHT ON \n",
      "EQUIPPING AI PROFESSIONALS TO WORK SAFELY WITH SENSITIVE DATA \n",
      "55 participants \n",
      "20 organizations across \n",
      "health, industry sectors and government\n",
      "----------------------------------------------------------------------------------------------------\n",
      "Document 10:\n",
      "\n",
      "24 \n",
      "Annual Report 2021–22 Vector Institute\n",
      " \n",
      " \n",
      " TALENT & \n",
      "WORKFORCE DEVELOPMENT \n",
      "Vector is helping to attract, develop, and \n",
      "connect the AI-skilled workforce that will transform Ontario’s economy 1,775  \n",
      "AI master’s students began their studies in\n",
      "----------------------------------------------------------------------------------------------------\n",
      "Document 11:\n",
      "\n",
      "400 G\n",
      "raduate students \n",
      "50+ Employers 12 MONTHS POST-GRADUATION \n",
      "93% of graduates from Vector-recognized AI programs are employed or pursuing further education in the feld \n",
      "92% of those employed have \n",
      "remained in Ontario.\n",
      "----------------------------------------------------------------------------------------------------\n",
      "Document 12:\n",
      "\n",
      "714 Members of the Vector research \n",
      "community, comprising: \n",
      "35 Faculty Members including  \n",
      "32 Canada CIFAR AI Chairs \n",
      "103 F\n",
      "aculty Afliates \n",
      "51 Postdoctoral Fellows \n",
      "410 G\n",
      "raduate Researchers \n",
      "115 Undergraduates \n",
      "NEW \n",
      "OPEN CALL PORTAL\n",
      "----------------------------------------------------------------------------------------------------\n",
      "Document 13:\n",
      "\n",
      "The Vector Institute is committed to developing \n",
      "programming for Black and Indigenous students, postdoctoral fellows, and recent graduates to build research opportunities and expand career pathways in AI for historically underrepresented groups.\n",
      "----------------------------------------------------------------------------------------------------\n",
      "Document 14:\n",
      "\n",
      "16 V ector Institute Annual Report 2021–22 \n",
      "RESEARCH & \n",
      "EDUCATION \n",
      "Vector is advancing the frontiers of \n",
      "AI knowledge What was once only a few founding faculty has evolved\n",
      "----------------------------------------------------------------------------------------------------\n",
      "Document 15:\n",
      "\n",
      "AI master’s students began their studies in \n",
      "recognized AI-related programs and study paths, up 27% from last year V\n",
      "ector is working with both universities and employers\n",
      "----------------------------------------------------------------------------------------------------\n",
      "Document 16:\n",
      "\n",
      "34 \n",
      "Annual Report 2021–22 Vector Institute\n",
      "SPOTLIGHT ON  \n",
      "ACCELERATING AI ADOPTION  \n",
      "IN HEALTH CARE  \n",
      "54 health clinician \n",
      "participants \n",
      "16 health care leaders \n",
      "37 Institutions\n",
      "----------------------------------------------------------------------------------------------------\n",
      "Document 17:\n",
      "\n",
      "43 Applied interns in Vector’s expanded internship program (up from 5 last year), working on Vector projects across its industry innovation, health, research, and AI engineering teams\n",
      "----------------------------------------------------------------------------------------------------\n",
      "Document 18:\n",
      "\n",
      "6,300+ \n",
      "Participants upskilled or trained in Vector’s programming for industry sponsors and the public in 2021–22 MOTHERS & MACHINE LEARNING \n",
      "• Six-week, academically rigorous course; 39 participants completed the inaugural program\n",
      "----------------------------------------------------------------------------------------------------\n",
      "Document 19:\n",
      "\n",
      "Vector awards recognition to AI master’s programs and AI-focused study paths at Ontario universities that are graduating students with the skills and competencies highly sought by industry. Vector recognition delivers benefts to:\n",
      "----------------------------------------------------------------------------------------------------\n",
      "Document 20:\n",
      "\n",
      "10 \n",
      " Vector Institute Annual Report 2021–22\n",
      "INDUSTRY SPONSORS \n",
      "As of March 31, 2022 \n",
      "“Working with Vector enables our industry sponsors\n"
     ]
    }
   ],
   "source": [
    "pretty_print_docs(compressed_docs)"
   ]
  },
  {
   "cell_type": "markdown",
   "id": "fef217bc",
   "metadata": {},
   "source": [
    "Lastly, let's run our LLM query a final time with the reranked results:"
   ]
  },
  {
   "cell_type": "code",
   "execution_count": 19,
   "id": "63696ef9",
   "metadata": {},
   "outputs": [
    {
     "name": "stdout",
     "output_type": "stream",
     "text": [
      "Result:\n",
      "\n",
      " 109 Vector Scholarships in AI were awarded in 2022.\n"
     ]
    }
   ],
   "source": [
    "qa = RetrievalQA.from_chain_type(llm=llm,\n",
    "        chain_type=\"stuff\",\n",
    "        retriever=compression_retriever)\n",
    "\n",
    "print(f\"Result:\\n\\n {qa.run(query=query)}\")"
   ]
  }
 ],
 "metadata": {
  "kernelspec": {
   "display_name": "rag_dataloaders",
   "language": "python",
   "name": "rag_dataloaders"
  },
  "language_info": {
   "codemirror_mode": {
    "name": "ipython",
    "version": 3
   },
   "file_extension": ".py",
   "mimetype": "text/x-python",
   "name": "python",
   "nbconvert_exporter": "python",
   "pygments_lexer": "ipython3",
   "version": "3.10.12"
  }
 },
 "nbformat": 4,
 "nbformat_minor": 5
}
